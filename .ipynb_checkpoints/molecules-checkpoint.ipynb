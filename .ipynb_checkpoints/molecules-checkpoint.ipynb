{
 "cells": [
  {
   "cell_type": "code",
   "execution_count": null,
   "id": "717d3d06",
   "metadata": {},
   "outputs": [],
   "source": [
    "!pip install rdkit"
   ]
  },
  {
   "cell_type": "code",
   "execution_count": null,
   "id": "6230ea18",
   "metadata": {},
   "outputs": [],
   "source": [
    "!pip install cairosvg pillow"
   ]
  },
  {
   "cell_type": "code",
   "execution_count": null,
   "id": "a03ac79f",
   "metadata": {},
   "outputs": [],
   "source": [
    "# https://pubchem.ncbi.nlm.nih.gov\n",
    "# RDKit: biblioteca de código abierto para la química informática.\n",
    "\n",
    "from rdkit import Chem\n",
    "from rdkit.Chem import Draw\n",
    "from rdkit.Chem.Draw import rdMolDraw2D\n",
    "\n",
    "molecules = {\n",
    "    'glucose': \"C([C@@H]1[C@H]([C@@H]([C@H]([C@H](O1)O)O)O)O)O\",\n",
    "    'pyruvic_acid': \"CC(=O)C(=O)[OH]\",\n",
    "    'acetaldehyde': \"CC=O\",\n",
    "    'ethanol': \"CCO\",\n",
    "    'carbon_dioxide': \"C(=O)=O\",\n",
    "    'l_malate': \"C([C@@H](C(=O)[O-])O)C(=O)[O-]\",\n",
    "    'l_lactate': \"C[C@@H](C(=O)[O-])O\"\n",
    "}\n",
    "\n",
    "for molecule_name, formula in molecules.items():\n",
    "    each_molecule = Chem.MolFromSmiles(formula)\n",
    "\n",
    "    # Create the molecule drawer\n",
    "    drawer = rdMolDraw2D.MolDraw2DSVG(300, 300)  # Ancho y alto\n",
    "    drawer.DrawMolecule(each_molecule)\n",
    "    drawer.FinishDrawing()\n",
    "\n",
    "    # Get the SVG string\n",
    "    svg = drawer.GetDrawingText()\n",
    "\n",
    "    # Save the SVG string to a file\n",
    "    with open(f\"./{molecule_name}.svg\", \"w\") as f:\n",
    "        f.write(svg)"
   ]
  }
 ],
 "metadata": {
  "kernelspec": {
   "display_name": "Python 3 (ipykernel)",
   "language": "python",
   "name": "python3"
  },
  "language_info": {
   "codemirror_mode": {
    "name": "ipython",
    "version": 3
   },
   "file_extension": ".py",
   "mimetype": "text/x-python",
   "name": "python",
   "nbconvert_exporter": "python",
   "pygments_lexer": "ipython3",
   "version": "3.11.7"
  }
 },
 "nbformat": 4,
 "nbformat_minor": 5
}
